{
 "cells": [
  {
   "cell_type": "code",
   "execution_count": 25,
   "id": "0d6fd29f",
   "metadata": {},
   "outputs": [],
   "source": [
    "import torch.nn as nn\n",
    "import torch\n",
    "from torch import Tensor\n",
    "model = nn.Sequential(\n",
    "        nn.Linear(1, 2),\n",
    "        nn.ReLU(),\n",
    "        nn.Linear(2, 1)\n",
    "    )"
   ]
  },
  {
   "cell_type": "code",
   "execution_count": 21,
   "id": "01e3897a",
   "metadata": {},
   "outputs": [
    {
     "name": "stdout",
     "output_type": "stream",
     "text": [
      "Parameter containing:\n",
      "tensor([[-34.4000],\n",
      "        [ -2.5200]], requires_grad=True)\n",
      "Parameter containing:\n",
      "tensor([2.1400, 1.2900], requires_grad=True)\n",
      "Parameter containing:\n",
      "tensor([[-1.3000,  2.2800]], requires_grad=True)\n",
      "Parameter containing:\n",
      "tensor([-0.5800], requires_grad=True)\n"
     ]
    }
   ],
   "source": [
    "for i in model.parameters():\n",
    "#     for j in i:\n",
    "        print(i)\n"
   ]
  },
  {
   "cell_type": "code",
   "execution_count": 26,
   "id": "8951b3a8",
   "metadata": {},
   "outputs": [
    {
     "name": "stdout",
     "output_type": "stream",
     "text": [
      "[Parameter containing:\n",
      "tensor([[-34.4000],\n",
      "        [ -2.5200]], requires_grad=True), Parameter containing:\n",
      "tensor([2.1400, 1.2900], requires_grad=True), Parameter containing:\n",
      "tensor([[-1.3000,  2.2800]], requires_grad=True), Parameter containing:\n",
      "tensor([-0.5800], requires_grad=True)]\n"
     ]
    }
   ],
   "source": [
    "with torch.no_grad():\n",
    "    def setparam(p, v):\n",
    "        p.mul_(0)\n",
    "        p.add_(v)\n",
    "\n",
    "    params = list(model.parameters())\n",
    "    setparam(params[0][0][0], -34.4)\n",
    "    setparam(params[0][1][0], -2.52)\n",
    "    setparam(params[1][0], 2.14)\n",
    "    setparam(params[1][1], 1.29)\n",
    "    setparam(params[2][0][0], -1.30)\n",
    "    setparam(params[2][0][1], 2.28)\n",
    "    setparam(params[3][0], -0.58)\n",
    "    print(params)"
   ]
  },
  {
   "cell_type": "code",
   "execution_count": 34,
   "id": "20d84a65",
   "metadata": {},
   "outputs": [
    {
     "name": "stdout",
     "output_type": "stream",
     "text": [
      "tensor([-0.4208], grad_fn=<AddBackward0>)\n",
      "tensor([1.7866], grad_fn=<AddBackward0>)\n",
      "tensor([1.2121], grad_fn=<AddBackward0>)\n",
      "tensor([0.6375], grad_fn=<AddBackward0>)\n",
      "tensor([0.0630], grad_fn=<AddBackward0>)\n",
      "tensor([-0.5116], grad_fn=<AddBackward0>)\n",
      "tensor([-0.5800], grad_fn=<AddBackward0>)\n",
      "tensor([-0.5800], grad_fn=<AddBackward0>)\n",
      "tensor([-0.5800], grad_fn=<AddBackward0>)\n",
      "tensor([-0.5800], grad_fn=<AddBackward0>)\n"
     ]
    }
   ],
   "source": [
    "model.eval()\n",
    "for i in range(10):\n",
    "    print(model(Tensor([i/10])))"
   ]
  },
  {
   "cell_type": "code",
   "execution_count": null,
   "id": "45e7f4d4",
   "metadata": {},
   "outputs": [],
   "source": []
  }
 ],
 "metadata": {
  "kernelspec": {
   "display_name": "Python 3 (ipykernel)",
   "language": "python",
   "name": "python3"
  },
  "language_info": {
   "codemirror_mode": {
    "name": "ipython",
    "version": 3
   },
   "file_extension": ".py",
   "mimetype": "text/x-python",
   "name": "python",
   "nbconvert_exporter": "python",
   "pygments_lexer": "ipython3",
   "version": "3.10.6"
  }
 },
 "nbformat": 4,
 "nbformat_minor": 5
}
